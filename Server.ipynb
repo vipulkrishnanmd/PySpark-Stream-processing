{
 "cells": [
  {
   "cell_type": "markdown",
   "metadata": {},
   "source": [
    "# FIT 5148 Assignment 2 Task C Notebook 1 \n",
    "\n",
    "Submitted By:\n",
    "\n",
    "* Michelle May Teng Ling (29524512)\n",
    "* Vipul Krishnan M.D. (28104641)\n",
    "\n",
    "Date: 21/05/2018"
   ]
  },
  {
   "cell_type": "markdown",
   "metadata": {},
   "source": [
    "## Importing Libraries"
   ]
  },
  {
   "cell_type": "code",
   "execution_count": 2,
   "metadata": {
    "collapsed": true
   },
   "outputs": [],
   "source": [
    "# importing the libraries\n",
    "import socket\n",
    "import time"
   ]
  },
  {
   "cell_type": "markdown",
   "metadata": {},
   "source": [
    "## Loading Data"
   ]
  },
  {
   "cell_type": "code",
   "execution_count": 3,
   "metadata": {
    "collapsed": true
   },
   "outputs": [],
   "source": [
    "# importing data in row binary form (opening the file)\n",
    "fd = open('FireData-Part2.csv', 'rb')\n",
    "cd = open('ClimateData-Part2.csv', 'rb')\n",
    "\n",
    "fdlines = fd.readlines()\n",
    "cdlines = cd.readlines()"
   ]
  },
  {
   "cell_type": "markdown",
   "metadata": {},
   "source": [
    "## Streaming the Data\n",
    "\n",
    "For making the server, we create a socket and make the server listen to a particular port (we took 9999) of the localhost. If it gets a connection from the stream client then it starts sending data (5 firedata instances and 1 climate data instances in a second). \n",
    "\n",
    "To control the time we use sleep function 1 s each. Please note that we have ingored the time overhead due to the action of sending data as it is negligibily small.\n",
    "\n",
    "The program stops after sending all the data. It also sends a finish signal after completion. If any exception happens before completion (eg. client disconnects), it prints the exception and wait for a new connection to start from the beginning."
   ]
  },
  {
   "cell_type": "code",
   "execution_count": 10,
   "metadata": {
    "collapsed": false
   },
   "outputs": [
    {
     "name": "stdout",
     "output_type": "stream",
     "text": [
      "\n",
      "Listening for a connection\n",
      "\n",
      "Connected by ('127.0.0.1', 56070)\n",
      "\n",
      "Sending data...\n",
      "\n",
      "[Errno 32] Broken pipe\n",
      "\n",
      "Listening for a connection\n",
      "\n",
      "Connected by ('127.0.0.1', 56188)\n",
      "\n",
      "Sending data...\n",
      "\n",
      "Streaming finished successfully\n"
     ]
    }
   ],
   "source": [
    "# creating socket\n",
    "s = socket.socket(socket.AF_INET, socket.SOCK_STREAM)\n",
    "# binding the port and uri\n",
    "s.bind(('localhost', 9999))\n",
    "# listening for connections\n",
    "s.listen(1)\n",
    "\n",
    "while True:\n",
    "    print('\\nListening for a connection')\n",
    "    # connetion establishing\n",
    "    conn, addr = s.accept()\n",
    "    \n",
    "    print('\\nConnected by', addr)\n",
    "    \n",
    "    try:\n",
    "        print('\\nSending data...\\n')\n",
    "        # pointers for data\n",
    "        i = 1\n",
    "        j = 1\n",
    "        while(j < len(cdlines)):\n",
    "            # sends 5 fire data\n",
    "            for k in range(5):\n",
    "                if i < len(fdlines) :\n",
    "                    conn.send(fdlines[i])\n",
    "                    i = i + 1\n",
    "            # sends one climate data\n",
    "            if j < len(cdlines):\n",
    "                conn.send(cdlines[j])\n",
    "                j = j + 1\n",
    "            # sleep for 1 second.\n",
    "            time.sleep(1)\n",
    "        # sending the finished signal\n",
    "        conn.send(b'finished\\r\\n')\n",
    "        break\n",
    "    except Exception as ex:\n",
    "        print (ex)\n",
    "\n",
    "print(\"Streaming finished successfully\")\n",
    "conn.close()\n",
    "s.close()"
   ]
  },
  {
   "cell_type": "code",
   "execution_count": 11,
   "metadata": {
    "collapsed": true
   },
   "outputs": [],
   "source": [
    "# please use this for stopping before completion (if you want)\n",
    "# .. after interrupting the kernel\n",
    "conn.close()\n",
    "s.close()"
   ]
  },
  {
   "cell_type": "markdown",
   "metadata": {},
   "source": [
    "## Summary\n",
    "Created a streaming server which waits for connection and sends the data in the required rate once the connection is established."
   ]
  },
  {
   "cell_type": "code",
   "execution_count": null,
   "metadata": {
    "collapsed": true
   },
   "outputs": [],
   "source": []
  }
 ],
 "metadata": {
  "kernelspec": {
   "display_name": "Python 3",
   "language": "python",
   "name": "python3"
  },
  "language_info": {
   "codemirror_mode": {
    "name": "ipython",
    "version": 3
   },
   "file_extension": ".py",
   "mimetype": "text/x-python",
   "name": "python",
   "nbconvert_exporter": "python",
   "pygments_lexer": "ipython3",
   "version": "3.5.2"
  }
 },
 "nbformat": 4,
 "nbformat_minor": 1
}
